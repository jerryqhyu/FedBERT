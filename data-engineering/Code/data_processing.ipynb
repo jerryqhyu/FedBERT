{
 "metadata": {
  "language_info": {
   "codemirror_mode": {
    "name": "ipython",
    "version": 3
   },
   "file_extension": ".py",
   "mimetype": "text/x-python",
   "name": "python",
   "nbconvert_exporter": "python",
   "pygments_lexer": "ipython3",
   "version": "3.7.6-final"
  },
  "orig_nbformat": 2,
  "kernelspec": {
   "name": "python37664bitbaseconda413d945b8eb1496892851cf38ee0a287",
   "display_name": "Python 3.7.6 64-bit ('base': conda)"
  }
 },
 "nbformat": 4,
 "nbformat_minor": 2,
 "cells": [
  {
   "cell_type": "code",
   "execution_count": 1,
   "metadata": {},
   "outputs": [],
   "source": [
    "import numpy as np\n",
    "import pandas as pd\n",
    "import csv\n",
    "import string"
   ]
  },
  {
   "cell_type": "code",
   "execution_count": 2,
   "metadata": {},
   "outputs": [],
   "source": [
    "def concatnate(dat):\n",
    "    string = \"\"\n",
    "    for i in range(dat.shape[0]):\n",
    "        simplified_dat = dat[i].replace('. ', '.\\n')\n",
    "        # simplified_dat = simplified_dat.replace('Watch Live', '')\n",
    "        string += simplified_dat\n",
    "        string += \"\\n\\n\"\n",
    "\n",
    "    return string.strip()\n",
    "\n",
    "def new_sift(raw_data, fed_keywords):\n",
    "    string = \"\"\n",
    "    dat = raw_data.split('\\n\\n')\n",
    "    for speech in dat:\n",
    "        speech = speech.split('\\n')\n",
    "        for row in speech:\n",
    "            if len(row.split(' ')) >= 10:\n",
    "                for word in row.split(' '):\n",
    "                    if word.lower() in fed_keywords:\n",
    "                        string += row + '\\n'\n",
    "                        break\n",
    "        string += '\\n'\n",
    "    return string"
   ]
  },
  {
   "cell_type": "code",
   "execution_count": 4,
   "metadata": {},
   "outputs": [],
   "source": [
    "financial_keywords_path = '../data/financial_keywords.csv'\n",
    "fed_keywords = pd.read_csv(financial_keywords_path)\n",
    "\n",
    "fed_keywords = fed_keywords.values.tolist()\n",
    "fed_keywords = [item for sublist in fed_keywords for item in sublist]\n",
    "\n",
    "# output_list = []\n",
    "file_type = 'Statements'\n",
    "if file_type == 'Speech':\n",
    "    raw_data = pd.read_pickle(\"Data_speeches\")['text']\n",
    "elif file_type == 'Statements':\n",
    "    raw_data = pd.read_pickle(\"Data_statements\")['text']\n",
    "elif file_type == 'Speech_Old':\n",
    "    raw_data = pd.read_pickle(\"Data_speeches_old\")['text']\n",
    "raw_data = raw_data.values.reshape(-1, 1)\n",
    "\n",
    "# processed_data = pd.DataFrame(np.zeros((raw_data.shape[0])))\n",
    "\n",
    "raw_data = raw_data[raw_data != '']\n",
    "\n",
    "text_file = open(r'new_sifted_' + file_type + '.txt', \"wt\", encoding=\"utf-8\")\n",
    "concatnate_dat = concatnate(raw_data)\n",
    "string = new_sift(concatnate_dat, fed_keywords)\n",
    "text_file.write(string)\n",
    "text_file.close()"
   ]
  },
  {
   "cell_type": "code",
   "execution_count": 11,
   "metadata": {},
   "outputs": [],
   "source": []
  },
  {
   "cell_type": "code",
   "execution_count": null,
   "metadata": {},
   "outputs": [],
   "source": [
    "string = new_sift(concatnate_dat, fed_keywords)"
   ]
  },
  {
   "cell_type": "code",
   "execution_count": 21,
   "metadata": {
    "tags": []
   },
   "outputs": [],
   "source": [
    "# file_type = 'Speech'\n",
    "text_file = open(r'new_sifted_' + file_type + '.txt', \"wt\", encoding=\"utf-8\")\n",
    "concatnate_dat = concatnate(raw_data)\n",
    "string = new_sift(concatnate_dat, fed_keywords)\n",
    "text_file.write(string)\n",
    "text_file.close()"
   ]
  },
  {
   "cell_type": "code",
   "execution_count": null,
   "metadata": {},
   "outputs": [],
   "source": [
    "string = sift(raw_data, fed_keywords)\n",
    "text_file = open(r'sifted_' + file_type + '.txt', \"wt\", encoding=\"utf-8\")\n",
    "text_file.write(string)\n",
    "text_file.close()"
   ]
  },
  {
   "cell_type": "code",
   "execution_count": null,
   "metadata": {},
   "outputs": [],
   "source": []
  },
  {
   "cell_type": "code",
   "execution_count": 38,
   "metadata": {
    "tags": []
   },
   "outputs": [
    {
     "output_type": "stream",
     "name": "stdout",
     "text": "['absorbed', 'absorb', 'volatility', 'volatile', 'future', 'futures', 'compensate', 'compensated', 'compensating', 'financial', 'interest', 'market', 'sales', 'stock', 'shares', 'operating', 'nonoperating', 'operations', 'product', 'produce', 'development', 'purchase', 'loans', 'period', 'agreement', 'expenses', 'consolidated']\n"
    }
   ],
   "source": [
    "def test_row(row):\n",
    "    return len(row) > min_paragraph_word_length-1 and any(elem in row for elem in financial_keywords)\n",
    "\n",
    "\n",
    "def clean_row(row):\n",
    "    new_row = []\n",
    "    for word_pre in row:\n",
    "        word = word_pre.lower()\n",
    "        if word[-1] in string.punctuation:\n",
    "            new_row.append(word[0:-1])\n",
    "            new_row.append(word[-1])\n",
    "        else:\n",
    "            new_row.append(word)\n",
    "\n",
    "    return new_row\n",
    "\n",
    "def mask_row(row):\n",
    "    new_row = []\n",
    "    for word in row:\n",
    "        if np.random.rand() > mask_ratio or word in financial_keywords or len(word) == 1:\n",
    "            if word == '.':\n",
    "                new_row.append('. [SEP]')\n",
    "            else:\n",
    "                new_row.append(word)\n",
    "        else:\n",
    "            new_row.append(mask_token)\n",
    "\n",
    "    return new_row\n",
    "\n",
    "with open(financial_keywords_path) as csv_file:\n",
    "    csv_reader = csv.reader(csv_file, delimiter=',')\n",
    "    for row in csv_reader:\n",
    "        financial_keywords.append(row[0])\n",
    "    print(financial_keywords)\n",
    "\n",
    "for i in range(raw_data.shape[0]):\n",
    "    output = []\n",
    "    dat = raw_data[i].split('\\n')\n",
    "    for row in dat:\n",
    "        row = row.split()\n",
    "        if test_row(row):\n",
    "            # print(row)\n",
    "            cleaned_row = clean_row(row)\n",
    "            masked_row = mask_row(cleaned_row)\n",
    "            output.append(masked_row)\n",
    "            # print('MM\\n\\n', masked_row)\n",
    "            \n",
    "    output_list.append(output)\n",
    "\n",
    "for i in range(raw_data.shape[0]): \n",
    "    output = output_list[i]\n",
    "    output_file = ''\n",
    "    for row in output:\n",
    "        output_file += '[CLS] '\n",
    "        output_file += ' '.join(row)\n",
    "        output_file += '\\n\\n'\n",
    "    processed_data.iloc[i] = output_file\n",
    "\n",
    "processed_data = processed_data[processed_data[0] != '']\n",
    "processed_data.to_csv('processed_' + file_type + '.csv')\n",
    "\n"
   ]
  },
  {
   "cell_type": "code",
   "execution_count": 39,
   "metadata": {},
   "outputs": [
    {
     "output_type": "execute_result",
     "data": {
      "text/plain": "                                                   0\n0  [CLS] the decline in activity was mostly due t...\n1  [CLS] the [MASK] of the 19th amendment in 1920...\n2  [CLS] it is a pleasure to participate in [MASK...\n3  [CLS] it [MASK] a pleasure to be [MASK] today ...\n4  [CLS] a [MASK] of data suggest the economy bot...",
      "text/html": "<div>\n<style scoped>\n    .dataframe tbody tr th:only-of-type {\n        vertical-align: middle;\n    }\n\n    .dataframe tbody tr th {\n        vertical-align: top;\n    }\n\n    .dataframe thead th {\n        text-align: right;\n    }\n</style>\n<table border=\"1\" class=\"dataframe\">\n  <thead>\n    <tr style=\"text-align: right;\">\n      <th></th>\n      <th>0</th>\n    </tr>\n  </thead>\n  <tbody>\n    <tr>\n      <th>0</th>\n      <td>[CLS] the decline in activity was mostly due t...</td>\n    </tr>\n    <tr>\n      <th>1</th>\n      <td>[CLS] the [MASK] of the 19th amendment in 1920...</td>\n    </tr>\n    <tr>\n      <th>2</th>\n      <td>[CLS] it is a pleasure to participate in [MASK...</td>\n    </tr>\n    <tr>\n      <th>3</th>\n      <td>[CLS] it [MASK] a pleasure to be [MASK] today ...</td>\n    </tr>\n    <tr>\n      <th>4</th>\n      <td>[CLS] a [MASK] of data suggest the economy bot...</td>\n    </tr>\n  </tbody>\n</table>\n</div>"
     },
     "metadata": {},
     "execution_count": 39
    }
   ],
   "source": [
    "processed_data.head()"
   ]
  },
  {
   "cell_type": "code",
   "execution_count": 121,
   "metadata": {},
   "outputs": [],
   "source": [
    "row_list = []\n",
    "for i in range(raw_data.shape[0]):\n",
    "    dat = raw_data[i].split('\\n')\n",
    "    for row in dat:\n",
    "        row_list.append(row + '\\n')\n"
   ]
  },
  {
   "cell_type": "code",
   "execution_count": 126,
   "metadata": {},
   "outputs": [],
   "source": [
    "df = pd.DataFrame(row_list)\n",
    "df.to_csv('row_raw_data.csv')"
   ]
  },
  {
   "cell_type": "code",
   "execution_count": 125,
   "metadata": {},
   "outputs": [
    {
     "output_type": "execute_result",
     "data": {
      "text/plain": "                                                   0\n0                                  August 26, 2020\\n\n1  The Pandemic’s Effect on the Economy and Banki...\n2                      Governor Michelle W. Bowman\\n\n3  At the Kansas Bankers Association CEO and Seni...\n4                                            Share\\n",
      "text/html": "<div>\n<style scoped>\n    .dataframe tbody tr th:only-of-type {\n        vertical-align: middle;\n    }\n\n    .dataframe tbody tr th {\n        vertical-align: top;\n    }\n\n    .dataframe thead th {\n        text-align: right;\n    }\n</style>\n<table border=\"1\" class=\"dataframe\">\n  <thead>\n    <tr style=\"text-align: right;\">\n      <th></th>\n      <th>0</th>\n    </tr>\n  </thead>\n  <tbody>\n    <tr>\n      <th>0</th>\n      <td>August 26, 2020\\n</td>\n    </tr>\n    <tr>\n      <th>1</th>\n      <td>The Pandemic’s Effect on the Economy and Banki...</td>\n    </tr>\n    <tr>\n      <th>2</th>\n      <td>Governor Michelle W. Bowman\\n</td>\n    </tr>\n    <tr>\n      <th>3</th>\n      <td>At the Kansas Bankers Association CEO and Seni...</td>\n    </tr>\n    <tr>\n      <th>4</th>\n      <td>Share\\n</td>\n    </tr>\n  </tbody>\n</table>\n</div>"
     },
     "metadata": {},
     "execution_count": 125
    }
   ],
   "source": [
    "df[:5]"
   ]
  },
  {
   "cell_type": "code",
   "execution_count": null,
   "metadata": {},
   "outputs": [],
   "source": [
    "def old_sift(raw_data, fed_keywords):\n",
    "    string = \"\"\n",
    "    for i in range(raw_data.shape[0]):\n",
    "        dat = raw_data[i].split('\\n')\n",
    "        for row in dat:\n",
    "            if len(row.split(' ')) >= 10:\n",
    "                for word in row.split(' '):\n",
    "                    if word.lower() in fed_keywords:\n",
    "                        string += row + '\\n'\n",
    "                        break\n",
    "    return string"
   ]
  },
  {
   "cell_type": "code",
   "execution_count": 199,
   "metadata": {},
   "outputs": [],
   "source": []
  },
  {
   "cell_type": "code",
   "execution_count": 200,
   "metadata": {
    "tags": []
   },
   "outputs": [],
   "source": []
  },
  {
   "cell_type": "code",
   "execution_count": null,
   "metadata": {},
   "outputs": [],
   "source": []
  },
  {
   "cell_type": "code",
   "execution_count": 47,
   "metadata": {},
   "outputs": [],
   "source": [
    "from collections import Counter\n",
    "\n",
    "counts = Counter(raw_data[0].split())\n",
    "for i in range(1, raw_data.shape[0]):\n",
    "    wordlist = raw_data[i].split()\n",
    "    counts += Counter(wordlist)\n",
    "# print(counts)"
   ]
  },
  {
   "cell_type": "code",
   "execution_count": 48,
   "metadata": {},
   "outputs": [
    {
     "output_type": "execute_result",
     "data": {
      "text/plain": "[('the', 41173),\n ('of', 24853),\n ('to', 22501),\n ('and', 22291),\n ('in', 14646),\n ('a', 11122),\n ('that', 9185),\n ('for', 6896),\n ('is', 6406),\n ('on', 5015),\n ('as', 4239),\n ('have', 4234),\n ('are', 4162),\n ('with', 3921),\n ('be', 3893),\n ('The', 3474),\n ('I', 3226),\n ('by', 3190),\n ('financial', 3101),\n ('Federal', 2981),\n ('we', 2961),\n ('at', 2820),\n ('this', 2594),\n ('has', 2480),\n ('from', 2453),\n ('our', 2430),\n ('will', 2393),\n ('Reserve', 2324),\n ('not', 2303),\n ('inflation', 2187),\n ('more', 2135),\n ('policy', 2084),\n ('their', 2078),\n ('text', 2075),\n ('it', 2064),\n ('or', 2062),\n ('Return', 2058),\n ('an', 2056),\n ('In', 1904),\n ('would', 1702),\n ('banks', 1641),\n ('these', 1632),\n ('also', 1592),\n ('which', 1570),\n ('rate', 1566),\n ('can', 1506),\n ('about', 1469),\n ('been', 1439),\n ('some', 1422),\n ('other', 1361),\n ('than', 1347),\n ('market', 1345),\n ('monetary', 1342),\n ('its', 1308),\n ('economic', 1274),\n ('was', 1268),\n ('may', 1248),\n ('they', 1215),\n ('capital', 1199),\n ('U.S.', 1156),\n ('percent', 1095),\n ('important', 1054),\n ('risk', 1041),\n ('over', 1012),\n ('community', 1005),\n ('but', 992),\n ('Board', 964),\n ('bank', 939),\n ('For', 929),\n ('interest', 926),\n ('many', 924),\n ('could', 916),\n ('As', 890),\n ('Bank', 888),\n ('should', 886),\n ('those', 883),\n ('such', 873),\n ('We', 869),\n ('were', 866),\n ('rates', 854),\n ('new', 846),\n ('when', 843),\n ('economy', 836),\n ('recent', 822),\n ('how', 818),\n ('Monetary', 816),\n ('growth', 791),\n ('Policy', 785),\n ('This', 784),\n ('banking', 780),\n ('central', 763),\n ('credit', 763),\n ('Economic', 758),\n ('my', 753),\n ('all', 744),\n ('most', 731),\n ('See', 726),\n ('you', 715),\n ('United', 710),\n ('there', 699),\n ('one', 685),\n ('example,', 683),\n ('well', 677),\n ('through', 664),\n ('labor', 646),\n ('risks', 640),\n ('do', 639),\n ('between', 639),\n ('Financial', 628),\n ('likely', 624),\n ('both', 613),\n ('pp.', 611),\n ('price', 598),\n ('only', 597),\n ('time', 594),\n ('large', 592),\n ('if', 591),\n ('into', 585),\n ('business', 584),\n ('data', 584),\n ('system', 583),\n ('firms', 582),\n ('unemployment', 576),\n ('regulatory', 559),\n ('had', 556),\n ('see', 555),\n ('make', 552),\n ('stress', 544),\n ('A', 544),\n ('what', 541),\n ('much', 537),\n ('low', 534),\n ('so', 534),\n ('less', 527),\n ('But', 524),\n ('It', 524),\n ('vol.', 523),\n ('help', 522),\n ('New', 519),\n ('past', 516),\n ('work', 514),\n ('provide', 513),\n ('global', 512),\n ('funds', 511),\n ('FOMC', 510),\n ('years', 507),\n ('federal', 501),\n ('need', 500),\n ('liquidity', 498),\n ('since', 497),\n ('At', 494),\n ('during', 494),\n ('potential', 493),\n ('These', 486),\n ('continue', 483),\n ('even', 480),\n ('now', 477),\n ('changes', 475),\n ('public', 474),\n ('current', 472),\n ('balance', 469),\n ('because', 467),\n ('prices', 466),\n ('markets', 460),\n ('two', 459),\n ('2', 458),\n ('including', 456),\n ('stability', 456),\n ('support', 454),\n ('range', 453),\n ('Governors', 451),\n ('might', 445),\n ('level', 444),\n ('institutions', 440),\n ('up', 437),\n ('lower', 435),\n ('expectations', 435),\n ('information', 434),\n ('very', 428),\n ('Committee', 424),\n ('employment', 421),\n ('first', 419),\n ('who', 418),\n ('around', 415),\n ('any', 413),\n ('Fed', 412),\n ('while', 409),\n ('increase', 403),\n ('better', 402),\n ('real', 402),\n ('like', 401),\n ('must', 401),\n ('role', 400),\n ('International', 398),\n ('strong', 394),\n ('part', 394),\n ('payment', 393),\n ('And', 387),\n ('use', 383),\n ('significant', 381),\n ('me', 380),\n ('Market', 380),\n ('higher', 378),\n ('under', 373),\n ('small', 373),\n ('asset', 373),\n ('take', 373),\n ('\"The', 368),\n ('number', 365),\n ('approach', 365),\n ('us', 363),\n ('mortgage', 362),\n ('greater', 360),\n ('remain', 357),\n ('across', 356),\n ('Treasury', 356),\n ('am', 356),\n ('high', 353),\n ('foreign', 353),\n ('To', 352),\n ('where', 348),\n ('securities', 346),\n ('out', 345),\n ('States', 345),\n ('consumer', 339),\n ('no', 336),\n ('effects', 335),\n ('development', 333),\n ('just', 333),\n ('decline', 328),\n ('supervisory', 327),\n ('households', 326),\n ('same', 323),\n ('after', 322),\n ('share', 321),\n ('ensure', 320),\n ('before', 316),\n ('While', 315),\n ('local', 313),\n (\"Reserve's\", 312),\n ('future', 312),\n ('tools', 312),\n ('last', 311),\n ('associated', 310),\n ('assets', 309),\n ('among', 307),\n ('effective', 306),\n ('believe', 305),\n ('forward', 303),\n ('research', 302),\n ('different', 301),\n ('Basel', 301),\n ('crisis', 300),\n ('year', 299),\n ('further', 299),\n ('conditions', 297),\n ('demand', 297),\n ('speech', 297),\n ('whether', 294),\n ('framework', 294),\n ('long', 294),\n ('address', 293),\n ('expected', 293),\n ('available', 292),\n ('appropriate', 291),\n ('(PDF),\"', 291),\n ('measures', 290),\n ('increased', 290),\n ('own', 290),\n ('few', 289),\n ('key', 289),\n ('Journal', 288),\n ('good', 286),\n ('consistent', 285),\n ('several', 284),\n ('review', 284),\n ('want', 283),\n ('requirements', 283),\n ('short-term', 283),\n ('focus', 281),\n ('job', 281),\n ('each', 281),\n ('average', 281),\n ('That', 280),\n ('lending', 279),\n ('However,', 279),\n ('additional', 277),\n ('made', 276),\n ('levels', 274),\n ('exchange', 273),\n ('System,', 272),\n ('economy.', 271),\n ('below', 271),\n ('set', 270),\n ('way', 270),\n ('relative', 270),\n ('your', 269),\n ('regulation', 269),\n ('businesses', 264),\n ('still', 264),\n ('change', 263),\n ('management', 262),\n ('policymakers', 262),\n ('areas', 261),\n ('housing', 261),\n ('payments', 261),\n ('consumers', 260),\n ('Open', 258),\n ('sheet', 258),\n ('delivered', 257),\n ('services', 256),\n ('One', 256),\n ('them', 255),\n ('Share', 254),\n ('policies', 254),\n ('productivity', 253),\n ('early', 252),\n ('working', 252),\n ('ability', 251),\n ('Community', 250),\n ('loans', 248),\n ('longer-term', 248),\n ('consider', 248),\n ('people', 247),\n ('banks,', 246),\n ('investment', 246),\n ('1.', 245),\n ('does', 245),\n ('income', 244),\n ('access', 244),\n ('participants', 243),\n ('System', 242),\n ('reduce', 241),\n ('particularly', 241),\n ('evidence', 241),\n ('fiscal', 240),\n ('time,', 240),\n ('value', 240),\n ('issues', 238),\n ('debt', 238),\n ('others', 238),\n ('today', 237),\n ('point', 237),\n ('estimates', 236),\n ('especially', 235),\n ('Series', 235),\n ('ways', 234),\n ('that,', 233),\n ('overall', 233),\n ('communities', 233),\n ('term', 233),\n ('National', 232),\n ('look', 231),\n ('challenges', 231),\n ('efforts', 231),\n ('held', 231),\n ('If', 231),\n ('often', 231),\n ('course,', 230),\n ('banks.', 229),\n ('core', 229),\n ('standards', 229),\n ('American', 228),\n ('activity', 227),\n ('system.', 227),\n ('process', 227),\n ('Economics', 227),\n ('rise', 227),\n ('Central', 225),\n ('domestic', 224),\n ('understand', 223),\n ('here', 222),\n ('back', 222),\n ('pace', 222),\n ('policy.', 221),\n ('guidance', 220),\n ('target', 220),\n ('With', 220),\n ('and,', 220),\n ('Washington:', 220),\n ('crisis,', 219),\n ('benefits', 218),\n ('period', 218),\n ('increases', 218),\n ('down', 217),\n ('(2017).', 217),\n ('expect', 216),\n ('based', 216),\n ('implications', 215),\n ('used', 215),\n ('too', 215),\n ('industry', 214),\n ('CRA', 214),\n ('discussion', 213),\n ('outlook', 213),\n ('billion', 212),\n ('achieve', 212),\n ('providing', 211),\n ('able', 210),\n ('best', 210),\n ('3.', 210),\n ('inflation.', 209),\n ('using', 208),\n ('full', 208),\n ('March', 207),\n ('2.', 207),\n ('developments', 207),\n ('Inflation', 207),\n ('response', 206),\n ('meet', 206),\n ('three', 206),\n ('long-term', 206),\n ('seen', 205),\n ('Working', 205),\n ('is,', 205),\n ('then', 204),\n ('maximum', 204),\n ('crisis.', 204),\n ('experience', 204),\n ('broad', 204),\n ('close', 204),\n ('addition,', 203),\n ('account', 203),\n ('Banks', 202),\n ('without', 202),\n ('near', 202),\n ('possible', 201),\n ('being', 201),\n ('next', 201),\n ('spending', 200),\n ('government', 200),\n ('There', 200),\n ('stable', 199),\n ('year,', 199),\n ('years,', 199),\n ('path', 198),\n ('largest', 198),\n ('assessment', 198),\n ('rural', 198),\n ('clear', 197),\n ('above', 197),\n ('Our', 196),\n ('sector', 196),\n ('model', 196),\n ('factors', 196),\n ('stability.', 195),\n ('effect', 195),\n ('costs', 194),\n ('international', 194),\n ('given', 194),\n ('Some', 193),\n ('agencies', 193),\n ('September', 193),\n ('needs', 192),\n ('suggests', 192),\n ('become', 192),\n ('provided', 191),\n ('remains', 191),\n ('rules', 190),\n ('John', 190),\n ('lead', 190),\n ('borrowers', 189),\n ('Although', 189),\n ('against', 189),\n ('holding', 189),\n ('end', 188),\n ('Paper', 188),\n ('Finance', 188),\n ('Moreover,', 187),\n ('economies', 187),\n ('improve', 187),\n ('percent,', 186),\n ('years.', 186),\n ('H.', 186),\n ('second', 185),\n ('practices', 185),\n ('generally', 184),\n ('loan', 184),\n ('think', 184),\n ('times', 184),\n ('countries', 184),\n ('recovery', 183),\n ('leverage', 183),\n ('4.', 183),\n ('Stability', 183),\n ('result', 183),\n ('continued', 182),\n ('York,', 182),\n ('within', 182),\n ('did', 182),\n ('inflation,', 182),\n ('conference', 182),\n ('vulnerabilities', 182),\n ('assess', 181),\n ('underlying', 181),\n ('Act', 180),\n ('actions', 180),\n ('find', 180),\n (\"Board's\", 180),\n ('neutral', 180),\n ('Great', 180),\n ('case', 179),\n ('toward', 178),\n ('Global', 178),\n ('however,', 177),\n ('supervision', 177),\n ('relatively', 177),\n ('Indeed,', 176),\n ('related', 175),\n ('percentage', 175),\n ('turn', 174),\n ('currently', 174),\n ('5.', 174),\n ('October', 174),\n ('making', 173),\n ('technology', 173),\n ('represent', 173),\n ('year.', 173),\n ('know', 172),\n ('difficult', 172),\n ('country', 172),\n ('promote', 172),\n ('understanding', 171),\n ('funding', 171),\n ('remarks', 170),\n ('state', 170),\n ('face', 170),\n ('broader', 170),\n ('importance', 170),\n ('percent.', 170),\n ('quite', 170),\n ('little', 170),\n ('2019', 169),\n ('private', 169),\n ('Washington,', 168),\n ('objective', 168),\n ('organizations', 168),\n ('activities', 168),\n ('losses', 167),\n ('larger', 167),\n ('existing', 167),\n ('regulations', 167),\n ('By', 166),\n ('Congress', 166),\n ('time.', 165),\n ('least', 165),\n ('subject', 165),\n ('view', 165),\n ('national', 164),\n ('major', 164),\n ('critical', 164),\n ('opportunity', 164),\n ('policy,', 164),\n ('products', 164),\n ('home', 164),\n (\"bank's\", 164),\n ('far', 163),\n (\"Fed's\", 163),\n ('include', 163),\n ('already', 163),\n ('similar', 163),\n ('David', 163),\n ('longer-run', 163),\n ('When', 163),\n ('question', 163),\n ('substantial', 162),\n ('insurance', 162),\n ('move', 162),\n ('Of', 162),\n ('place', 161),\n ('members', 161),\n ('suggest', 161),\n ('emerging', 161),\n ('somewhat', 160),\n ('staff', 160),\n ('investors', 160),\n ('curve', 159),\n ('S.', 159),\n ('discuss', 159),\n ('goals', 159),\n ('See,', 159),\n ('half', 158),\n ('rising', 158),\n ('his', 158),\n ('particular,', 158),\n ('purchases', 157),\n ('Economics,', 156),\n ('1', 155),\n ('affect', 155),\n ('Bureau', 155),\n ('significantly', 155),\n ('output', 154),\n ('keep', 154),\n ('maintain', 154),\n ('10', 154),\n ('First,', 154),\n ('goal', 154),\n ('corporate', 154),\n ('events', 154),\n ('(PDF)', 153),\n ('longer', 153),\n ('Phillips', 153),\n ('adverse', 153),\n ('Interest', 153),\n ('needed', 152),\n ('(Washington:', 152),\n ('analysis', 152),\n ('Discussion', 152),\n ('terms', 152),\n ('What', 152),\n ('May', 151),\n ('Business', 151),\n ('recently', 151),\n ('hold', 150),\n ('nominal', 150),\n ('allow', 150),\n ('taken', 150),\n ('put', 150),\n ('(2018).', 150),\n ('economy,', 149),\n ('regulators', 149),\n ('participation', 149),\n ('Credit', 149),\n ('testing', 149),\n ('program', 148),\n ('money', 148),\n ('results', 147),\n ('order', 147),\n ('decisions', 146),\n ('rate,', 146),\n ('particular', 146),\n ('along', 146),\n ('meeting', 146),\n ('commitment', 146),\n ('workers', 146),\n ('systemic', 146),\n ('rule', 146),\n ('rather', 145),\n ('size', 145),\n ('2018', 145),\n ('force', 145),\n ('gains', 145),\n ('individual', 145),\n ('proposed', 145),\n ('late', 144),\n ('natural', 144),\n ('York', 144),\n ('Michael', 144),\n ('total', 144),\n ('November', 144),\n ('performance', 144),\n ('amount', 144),\n ('net', 143),\n ('complex', 143),\n ('Since', 143),\n ('sponsored', 143),\n ('equity', 143),\n ('views', 143),\n ('began', 142),\n ('another', 142),\n ('tests', 142),\n ('reflect', 142),\n ('various', 142),\n ('found', 141),\n ('necessarily', 141),\n ('February', 141),\n ('annual', 140),\n ('offer', 140),\n ('6.', 140),\n ('due', 139),\n ('means', 139),\n ('required', 139),\n ('models', 139),\n ('world', 139),\n ('transparency', 139),\n ('conduct', 139),\n ('identify', 139),\n ('increasing', 138),\n ('basis', 138),\n ('press', 138),\n ('States,', 138),\n ('\"Monetary', 138),\n ('advanced', 138),\n ('provides', 138),\n ('require', 138),\n ('January', 138),\n ('confidence', 137),\n ('service', 137),\n ('come', 137),\n ('December', 137),\n ('Let', 136),\n ('concerns', 136),\n ('uncertainty', 135),\n ('system,', 135),\n ('every', 134),\n ('area', 134),\n ('So', 134),\n ('aggregate', 134),\n ('reserves', 134),\n ('Rate', 134),\n ('paper', 134),\n ('certain', 133),\n ('commercial', 133),\n ('household', 133),\n ('outside', 133),\n ('macroprudential', 133),\n ('Report', 132),\n ('Chair', 132),\n ('benefit', 132),\n ('yield', 132),\n ('ongoing', 132),\n ('Annual', 132),\n ('Chairman', 132),\n ('Banking', 131),\n ('loss', 131),\n ('following', 131),\n ('fintech', 131),\n ('historical', 131),\n ('August', 130),\n ('steps', 130),\n ('market.', 130),\n ('variety', 130),\n ('Consumer', 130),\n ('University', 130),\n ('retail', 129),\n ('say', 129),\n ('FSB', 129),\n ('firm', 129),\n ('pressure', 129),\n ('specific', 129),\n ('communication', 129),\n ('appear', 129),\n ('Governor', 128),\n ('April', 128),\n ('return', 128),\n ('digital', 128),\n ('More', 128),\n ('macroeconomic', 128),\n ('wide', 128),\n ('directly', 127),\n ('serve', 127),\n ('objectives', 127),\n ('Thus,', 127),\n ('Research', 127),\n ('wealth', 127),\n ('why', 126),\n ('smaller', 126),\n ('progress', 126),\n ('ratio', 126),\n ('necessary', 126),\n ('common', 126),\n ('nearly', 125),\n ('continues', 125),\n ('Finally,', 125),\n ('release,', 125),\n ('always', 125),\n ('Second,', 125),\n ('cost', 125),\n ('yields', 125),\n ('extent', 124),\n ('closely', 124),\n ('7.', 124),\n ('report', 124),\n ('8.', 123),\n ('seek', 123),\n ('measure', 123),\n ('Survey', 123),\n ('growth.', 123),\n ('house', 123),\n ('great', 122),\n ('highly', 122),\n ('families', 122),\n ('standard', 122),\n ('test', 122),\n ('markets.', 122),\n ('appears', 122),\n ('Banking,', 122),\n ('communities.', 121),\n ('markets,', 121),\n ('taking', 121),\n ('cannot', 121),\n ('faster', 121),\n ('On', 121),\n ('points', 121),\n ('led', 120),\n ('June', 120),\n ('Institute', 120),\n ('degree', 120),\n ('thus', 120),\n ('GDP', 120),\n ('issue', 119),\n ('Research,', 119),\n ('normal', 119),\n ('jobs', 119),\n ('fall', 119),\n ('Because', 119),\n ('long-run', 119),\n ('problems', 119),\n ('rate.', 119),\n ('rates,', 119),\n ('(2016).', 119),\n ('approaches', 118),\n ('questions', 118),\n ('fully', 118),\n ('primary', 118),\n ('note', 118),\n ('expansion', 118),\n ('evaluate', 118),\n ('growth,', 118),\n ('pressures', 118),\n ('trading', 118),\n ('attention', 118),\n ('play', 117),\n ('Thank', 117),\n ('hope', 117),\n ('companies', 117),\n ('9.', 117),\n ('Conference', 117),\n ('growing', 117),\n ('today.', 116),\n ('earlier', 116),\n ('improved', 116),\n ('finance', 116),\n ('personal', 116),\n ('together', 116),\n ('rates.', 116),\n ('colleagues', 116),\n ('traditional', 116),\n ('2017', 116),\n ('innovation', 115),\n ('develop', 115),\n ('roughly', 115),\n ('instance,', 115),\n ('Policy,\"', 115),\n ('Bernanke', 115),\n ('subprime', 115),\n ('opportunities', 114),\n (\"banks'\", 114),\n ('market,', 114),\n ('start', 114),\n ('Capital', 114),\n ('energy', 113),\n ('July', 113),\n ('capacity', 113),\n ('limited', 113),\n ('reducing', 113),\n ('either', 113),\n ('resilience', 113),\n ('dollar', 113),\n ('incentives', 113),\n ('resources', 112),\n ('until', 112),\n ('discussed', 112),\n ('supervisors', 112),\n ('conventional', 112),\n ('figure', 112),\n ('Lael', 111),\n ('moved', 111),\n ('operating', 111),\n ('structure', 111),\n ('risks.', 111),\n ('robust', 111),\n ('II', 111),\n ('months', 110),\n ('open', 110),\n ('although', 110),\n ('light', 110),\n ('groups', 110),\n ('strategies', 110),\n ('tightening', 110),\n ('They', 109),\n ('currency', 109),\n ('requires', 109),\n ('quarter', 109),\n ('Many', 109),\n (\"FOMC's\", 109),\n ('(2018),', 109),\n ('shocks', 109),\n ('(figure', 109),\n ('designed', 108),\n ('prudential', 108),\n ('form', 108),\n ('product', 108),\n ('European', 108),\n ('Conference,', 108),\n ('trend', 108),\n ('reserve', 108),\n ('stronger', 107),\n ('monitoring', 107),\n ('having', 107),\n ('begin', 107),\n ('bond', 107),\n ('prices,', 107),\n ('Even', 106),\n ('impact', 106),\n ('operations', 106),\n ('An', 106),\n ('build', 106),\n ('Labor', 106),\n ('Review', 106),\n ('Supervision', 106),\n ('third', 106),\n ('(2015).', 106),\n ('source', 105),\n ('addition', 105),\n ('10.', 105),\n ('median', 105),\n ('reforms', 105),\n ('noted', 105),\n ('post-crisis', 105),\n ('considerable', 105),\n ('normalization', 105),\n ('enhanced', 104),\n ('sense', 104),\n ('previous', 104),\n ('doing', 104),\n ('M.', 104),\n ('buffer', 104),\n ('run', 104),\n ('statement', 104),\n ('reduced', 104),\n ('decade', 104),\n ('reflects', 104),\n ('Brookings', 104),\n ('structural', 104),\n ('seems', 104),\n ('sustainable', 104),\n ('San', 103),\n ('avoid', 103),\n ('Kansas', 102),\n ('potentially', 102),\n ('Reserve,', 102),\n ('trade', 102),\n ('Over', 102),\n ('reason', 102),\n ('per', 102),\n ('created', 101),\n ('After', 101),\n ('Another', 101),\n ('Given', 101),\n ('Vice', 101),\n ('K.', 101),\n ('Review,', 101),\n ('raise', 101),\n ('shown', 101),\n ('course', 100),\n ('severe', 100),\n ('recognize', 100),\n ('let', 100),\n ('essential', 100),\n ('apply', 100),\n ('Ben', 100),\n ('presented', 100),\n ('Papers', 100),\n ('tend', 100),\n ('Chicago', 100),\n ('proposal', 100),\n ('tools,', 99),\n ('website', 99),\n ('My', 99),\n ('strategy', 99),\n ('effort', 98),\n ('event', 98),\n ('create', 98),\n ('transactions', 98),\n ('show', 98),\n ('persistent', 98),\n ('actual', 98),\n ('he', 98),\n ('stance', 98),\n ('today,', 98),\n ('beyond', 97),\n ('substantially', 97),\n ('intended', 97),\n ('systems', 97),\n ('rapid', 97),\n ('indicators', 97),\n ('give', 96),\n ('health', 96),\n ('effectively', 96),\n ('influence', 96),\n ('mortgages', 96),\n ('regarding', 95),\n ('lenders', 95),\n ('Brainard', 95),\n ('stability,', 95),\n ('card', 95),\n ('Mass.:', 95),\n ('Recent', 95),\n ('How', 95),\n ('types', 95),\n (\"Committee's\", 95),\n ('estimate', 95),\n ('sound', 95),\n ('programs', 94),\n ('adjustments', 94),\n ('conditions.', 94),\n ('relevant', 93),\n ('plan', 93),\n ('risk.', 93),\n ...]"
     },
     "metadata": {},
     "execution_count": 48
    }
   ],
   "source": [
    "counts.most_common()"
   ]
  },
  {
   "cell_type": "code",
   "execution_count": null,
   "metadata": {},
   "outputs": [],
   "source": []
  }
 ]
}